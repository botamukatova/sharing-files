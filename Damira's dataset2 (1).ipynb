{
 "cells": [
  {
   "cell_type": "code",
   "execution_count": 1,
   "metadata": {},
   "outputs": [],
   "source": [
    "import os, shutil"
   ]
  },
  {
   "cell_type": "code",
   "execution_count": 1,
   "metadata": {},
   "outputs": [],
   "source": [
    "original_dataset_dir = 'C:/Users/botagoz.mukatova/Downloads/lmn_original_data'"
   ]
  },
  {
   "cell_type": "code",
   "execution_count": 2,
   "metadata": {},
   "outputs": [
    {
     "ename": "SyntaxError",
     "evalue": "(unicode error) 'unicodeescape' codec can't decode bytes in position 2-3: truncated \\UXXXXXXXX escape (<ipython-input-2-a0ea66e0f771>, line 40)",
     "output_type": "error",
     "traceback": [
      "\u001b[1;36m  File \u001b[1;32m\"<ipython-input-2-a0ea66e0f771>\"\u001b[1;36m, line \u001b[1;32m40\u001b[0m\n\u001b[1;33m    src = 'C:\\Users\\botagoz.mukatova\\Downloads\\lmn_original_data\\Train\\clean'\u001b[0m\n\u001b[1;37m         ^\u001b[0m\n\u001b[1;31mSyntaxError\u001b[0m\u001b[1;31m:\u001b[0m (unicode error) 'unicodeescape' codec can't decode bytes in position 2-3: truncated \\UXXXXXXXX escape\n"
     ]
    }
   ],
   "source": [
    "base_dir = 'C:/Users/botagoz.mukatova/Downloads/threeclasses'\n",
    "os.mkdir(base_dir)\n",
    "\n",
    "train_dir = os.path.join(base_dir, 'train')\n",
    "os.mkdir(train_dir)\n",
    "\n",
    "validation_dir = os.path.join(base_dir, 'validation')\n",
    "os.mkdir(validation_dir)\n",
    "\n",
    "test_dir = os.path.join(base_dir, 'test')\n",
    "os.mkdir(test_dir)\n",
    "\n",
    "train_clean_dir = os.path.join(train_dir, 'clean')\n",
    "os.mkdir(train_clean_dir)\n",
    "\n",
    "train_snow_dir = os.path.join(train_dir, 'snow')\n",
    "os.mkdir(train_snow_dir)\n",
    "\n",
    "train_water_dir = os.path.join(train_dir, 'water')\n",
    "os.mkdir(train_water_dir)\n",
    "\n",
    "validation_clean_dir = os.path.join(validation_dir, 'clean')\n",
    "os.mkdir(validation_clean_dir)\n",
    "\n",
    "validation_snow_dir = os.path.join(validation_dir, 'snow')\n",
    "os.mkdir(validation_snow_dir)\n",
    "\n",
    "validation_water_dir = os.path.join(validation_dir, 'water')\n",
    "os.mkdir(validation_water_dir)\n",
    "\n",
    "test_clean_dir = os.path.join(validation_dir, 'clean')\n",
    "os.mkdir(validation_clean_dir)\n",
    "\n",
    "test_snow_dir = os.path.join(validation_dir, 'snow')\n",
    "os.mkdir(validation_snow_dir)\n",
    "\n",
    "test_water_dir = os.path.join(validation_dir, 'water')\n",
    "os.mkdir(validation_water_dir)\n",
    "\n",
    "src = 'C:/Users/botagoz.mukatova/Downloads/lmn_original_data/Train/clean'\n",
    "shutil.copyfile(src, train_clean_dir)\n",
    "\n",
    "src = 'C:/Users/botagoz.mukatova/Downloads/lmn_original_data/Train/clean'\n",
    "shutil.copyfile(src, validation_clean_dir)\n",
    "\n",
    "src = 'C:/Users/botagoz.mukatova/Downloads/lmn_original_data/Train/clean'\n",
    "shutil.copyfile(src, test_clean_dir)\n",
    "\n",
    "src = 'C:/Users/botagoz.mukatova/Downloads/lmn_original_data/Train/snow'\n",
    "shutil.copyfile(src, train_snow_dir)\n",
    "\n",
    "src = 'C:/Users/botagoz.mukatova/Downloads/lmn_original_data/Train/snow'\n",
    "shutil.copyfile(src, validation_snow_dir)\n",
    "\n",
    "src = 'C:/Users/botagoz.mukatova/Downloads/lmn_original_data/Train/snow'\n",
    "shutil.copyfile(src, test_snow_dir)\n",
    "\n",
    "src = 'C:\\Users\\botagoz.mukatova\\Downloads\\lmn_original_data\\Train\\water'\n",
    "\n",
    "shutil.copyfile(src, train_water_dir)\n",
    "\n",
    "src = 'C:\\Users\\botagoz.mukatova\\Downloads\\lmn_original_data\\Train\\water'\n",
    "shutil.copyfile(src, validation_water_dir)\n",
    "\n",
    "src = 'C:\\Users\\botagoz.mukatova\\Downloads\\lmn_original_data\\Train\\water'\n",
    "shutil.copyfile(src, test_water_dir)"
   ]
  },
  {
   "cell_type": "code",
   "execution_count": 2,
   "metadata": {},
   "outputs": [
    {
     "name": "stdout",
     "output_type": "stream",
     "text": [
      "['clean', 'snow', 'water']\n"
     ]
    }
   ],
   "source": [
    "print(os.listdir('C:/Users/botagoz.mukatova/Downloads/lmn_original_data2/Train'))"
   ]
  },
  {
   "cell_type": "code",
   "execution_count": 1,
   "metadata": {},
   "outputs": [],
   "source": [
    "# Ignore  the warnings\n",
    "#import warnings\n",
    "#warnings.filterwarnings('always')\n",
    "#warnings.filterwarnings('ignore')\n",
    "\n",
    "# data visualisation and manipulation\n",
    "import numpy as np\n",
    "import pandas as pd\n",
    "import matplotlib.pyplot as plt\n",
    "from matplotlib import style\n",
    "import seaborn as sns\n",
    "\n",
    "#configure\n",
    "# set matplotlib to inline and displays graphs below the corressponding cell.\n",
    "%matplotlib inline\n",
    "style.use('fivethirtyeight')\n",
    "sns.set(style='whitegrid', color_codes=True)\n",
    "\n",
    "#model selection\n",
    "from sklearn.model_selection import train_test_split\n",
    "from sklearn.model_selection import KFold\n",
    "from sklearn.metrics import accuracy_score, precision_score, recall_score, confusion_matrix,roc_curve,roc_auc_score\n",
    "from sklearn.model_selection import GridSearchCV\n",
    "from sklearn.preprocessing import LabelEncoder"
   ]
  },
  {
   "cell_type": "code",
   "execution_count": 2,
   "metadata": {},
   "outputs": [],
   "source": [
    "# specifically for manipulating zipped images and getting numpy arrays of pixel values of images.\n",
    "import cv2                  \n",
    "import numpy as np  \n",
    "from tqdm import tqdm\n",
    "import os                   \n",
    "from random import shuffle  \n",
    "from zipfile import ZipFile\n",
    "#from PIL import Image"
   ]
  },
  {
   "cell_type": "code",
   "execution_count": 3,
   "metadata": {},
   "outputs": [],
   "source": [
    "import tensorflow as tf\n",
    "#import random as rn"
   ]
  },
  {
   "cell_type": "code",
   "execution_count": 4,
   "metadata": {},
   "outputs": [
    {
     "name": "stderr",
     "output_type": "stream",
     "text": [
      "Using TensorFlow backend.\n"
     ]
    }
   ],
   "source": [
    "# specifically for cnn\n",
    "from keras.layers import Dropout, Flatten, Activation\n",
    "from keras.layers import Conv2D, MaxPooling2D, BatchNormalization"
   ]
  },
  {
   "cell_type": "code",
   "execution_count": 5,
   "metadata": {},
   "outputs": [],
   "source": [
    "from keras.utils import to_categorical"
   ]
  },
  {
   "cell_type": "code",
   "execution_count": 6,
   "metadata": {},
   "outputs": [],
   "source": [
    "from keras.models import Sequential"
   ]
  },
  {
   "cell_type": "code",
   "execution_count": 7,
   "metadata": {},
   "outputs": [],
   "source": [
    "#Preparing the data\n",
    "#Making the functions to get the training and validation set from the Images"
   ]
  },
  {
   "cell_type": "code",
   "execution_count": 8,
   "metadata": {},
   "outputs": [],
   "source": [
    "X = []\n",
    "Z = []\n",
    "T = []\n",
    "L = []\n",
    "IMG_SIZE = 64\n",
    "CLEAN_DIR = '/Users/botamukatova/Downloads/lmn/train/clean'\n",
    "SNOW_DIR = '/Users/botamukatova/Downloads/lmn/train/snow'\n",
    "WATER_DIR = '/Users/botamukatova/Downloads/lmn/train/water'\n",
    "CLEAN_TEST_DIR = '/Users/botamukatova/Downloads/lmn/validation/clean'\n",
    "SNOW_TEST_DIR = '/Users/botamukatova/Downloads/lmn/validation/snow'\n",
    "WATER_TEST_DIR = '/Users/botamukatova/Downloads/lmn/validation/water'"
   ]
  },
  {
   "cell_type": "code",
   "execution_count": 9,
   "metadata": {},
   "outputs": [],
   "source": [
    "def assign_label(img, dirt_type):\n",
    "    return dirt_type"
   ]
  },
  {
   "cell_type": "code",
   "execution_count": 10,
   "metadata": {},
   "outputs": [],
   "source": [
    "def make_train_data(dirt_type, DIR):\n",
    "    for img in tqdm(os.listdir(DIR)):\n",
    "        label = assign_label(img, dirt_type)\n",
    "        path = os.path.join(DIR, img)\n",
    "        img = cv2.imread(path, cv2.IMREAD_COLOR)\n",
    "        img = cv2.resize(img, (IMG_SIZE, IMG_SIZE))\n",
    "        \n",
    "        X.append(np.array(img))\n",
    "        Z.append(str(label))"
   ]
  },
  {
   "cell_type": "code",
   "execution_count": 11,
   "metadata": {},
   "outputs": [],
   "source": [
    "def make_test_data(dirt_type, DIR):\n",
    "    for img in tqdm(os.listdir(DIR)):\n",
    "        label = assign_label(img, dirt_type)\n",
    "        path = os.path.join(DIR, img)\n",
    "        img = cv2.imread(path, cv2.IMREAD_COLOR)\n",
    "        img = cv2.resize(img, (IMG_SIZE, IMG_SIZE))\n",
    "        \n",
    "        T.append(np.array(img))\n",
    "        L.append(str(label))"
   ]
  },
  {
   "cell_type": "code",
   "execution_count": 12,
   "metadata": {},
   "outputs": [
    {
     "name": "stderr",
     "output_type": "stream",
     "text": [
      "100%|██████████| 100/100 [00:00<00:00, 829.95it/s]"
     ]
    },
    {
     "name": "stdout",
     "output_type": "stream",
     "text": [
      "100\n"
     ]
    },
    {
     "name": "stderr",
     "output_type": "stream",
     "text": [
      "\n"
     ]
    }
   ],
   "source": [
    "make_train_data('Clean', CLEAN_DIR)\n",
    "print(len(X))"
   ]
  },
  {
   "cell_type": "code",
   "execution_count": 13,
   "metadata": {},
   "outputs": [
    {
     "name": "stderr",
     "output_type": "stream",
     "text": [
      "100%|██████████| 60/60 [00:00<00:00, 912.23it/s]"
     ]
    },
    {
     "name": "stdout",
     "output_type": "stream",
     "text": [
      "160\n"
     ]
    },
    {
     "name": "stderr",
     "output_type": "stream",
     "text": [
      "\n"
     ]
    }
   ],
   "source": [
    "make_train_data('Snow', SNOW_DIR)\n",
    "print(len(X))"
   ]
  },
  {
   "cell_type": "code",
   "execution_count": 14,
   "metadata": {},
   "outputs": [
    {
     "name": "stderr",
     "output_type": "stream",
     "text": [
      "100%|██████████| 60/60 [00:00<00:00, 870.94it/s]"
     ]
    },
    {
     "name": "stdout",
     "output_type": "stream",
     "text": [
      "220\n"
     ]
    },
    {
     "name": "stderr",
     "output_type": "stream",
     "text": [
      "\n"
     ]
    }
   ],
   "source": [
    "make_train_data('Water', WATER_DIR)\n",
    "print(len(X))"
   ]
  },
  {
   "cell_type": "code",
   "execution_count": 15,
   "metadata": {},
   "outputs": [
    {
     "name": "stderr",
     "output_type": "stream",
     "text": [
      "100%|██████████| 50/50 [00:00<00:00, 762.72it/s]"
     ]
    },
    {
     "name": "stdout",
     "output_type": "stream",
     "text": [
      "50\n"
     ]
    },
    {
     "name": "stderr",
     "output_type": "stream",
     "text": [
      "\n"
     ]
    }
   ],
   "source": [
    "make_test_data('Clean', CLEAN_TEST_DIR)\n",
    "print(len(T))"
   ]
  },
  {
   "cell_type": "code",
   "execution_count": 16,
   "metadata": {},
   "outputs": [
    {
     "name": "stderr",
     "output_type": "stream",
     "text": [
      "100%|██████████| 25/25 [00:00<00:00, 720.46it/s]"
     ]
    },
    {
     "name": "stdout",
     "output_type": "stream",
     "text": [
      "75\n"
     ]
    },
    {
     "name": "stderr",
     "output_type": "stream",
     "text": [
      "\n"
     ]
    }
   ],
   "source": [
    "make_test_data('Snow', SNOW_TEST_DIR)\n",
    "print(len(T))"
   ]
  },
  {
   "cell_type": "code",
   "execution_count": 17,
   "metadata": {},
   "outputs": [
    {
     "name": "stderr",
     "output_type": "stream",
     "text": [
      "100%|██████████| 25/25 [00:00<00:00, 768.67it/s]"
     ]
    },
    {
     "name": "stdout",
     "output_type": "stream",
     "text": [
      "100\n"
     ]
    },
    {
     "name": "stderr",
     "output_type": "stream",
     "text": [
      "\n"
     ]
    }
   ],
   "source": [
    "make_test_data('Water', WATER_TEST_DIR)\n",
    "print(len(T))"
   ]
  },
  {
   "cell_type": "code",
   "execution_count": 18,
   "metadata": {},
   "outputs": [],
   "source": [
    "#Visualizing some Random images"
   ]
  },
  {
   "cell_type": "code",
   "execution_count": 59,
   "metadata": {},
   "outputs": [
    {
     "data": {
      "image/png": "[encoded data removed]",
      "text/plain": [
       "<Figure size 1080x1080 with 10 Axes>"
      ]
     },
     "metadata": {
      "needs_background": "light"
     },
     "output_type": "display_data"
    }
   ],
   "source": [
    "fig, ax = plt.subplots(5,2)\n",
    "fig.set_size_inches(15,15)\n",
    "for i in range(5):\n",
    "    for j in range(2):\n",
    "        l = np.random.randint(0, len(Z))\n",
    "        ax[i,j].imshow(X[l])\n",
    "        ax[i,j].set_title('Dirt type: '+Z[l])\n",
    "        \n",
    "plt.tight_layout()"
   ]
  },
  {
   "cell_type": "code",
   "execution_count": 60,
   "metadata": {},
   "outputs": [],
   "source": [
    "#Label Encoding the Y array (i.e. Daisy->0, Rose->1 etc...) & then One Hot Encoding"
   ]
  },
  {
   "cell_type": "code",
   "execution_count": 19,
   "metadata": {},
   "outputs": [],
   "source": [
    "le = LabelEncoder()\n",
    "Y = le.fit_transform(Z)\n",
    "Y = to_categorical(Y,3)\n",
    "X = np.array(X)\n",
    "X = X/255"
   ]
  },
  {
   "cell_type": "code",
   "execution_count": 20,
   "metadata": {},
   "outputs": [],
   "source": [
    "le = LabelEncoder()\n",
    "V = le.fit_transform(L)\n",
    "V = to_categorical(V,3)\n",
    "T = np.array(T)\n",
    "T = T/255"
   ]
  },
  {
   "cell_type": "code",
   "execution_count": 21,
   "metadata": {},
   "outputs": [],
   "source": [
    "x_train = X"
   ]
  },
  {
   "cell_type": "code",
   "execution_count": 22,
   "metadata": {},
   "outputs": [],
   "source": [
    "y_train = Y"
   ]
  },
  {
   "cell_type": "code",
   "execution_count": 23,
   "metadata": {},
   "outputs": [],
   "source": [
    "x_test = T"
   ]
  },
  {
   "cell_type": "code",
   "execution_count": 24,
   "metadata": {},
   "outputs": [],
   "source": [
    "y_test = V"
   ]
  },
  {
   "cell_type": "code",
   "execution_count": 70,
   "metadata": {
    "scrolled": true
   },
   "outputs": [
    {
     "data": {
      "text/plain": [
       "array([[[[0.52156863, 0.50588235, 0.52941176],\n",
       "         [0.56078431, 0.54117647, 0.57647059],\n",
       "         [0.57254902, 0.55686275, 0.58039216],\n",
       "         ...,\n",
       "         [0.54901961, 0.49411765, 0.5372549 ],\n",
       "         [0.64705882, 0.58039216, 0.61568627],\n",
       "         [0.69803922, 0.6627451 , 0.6745098 ]],\n",
       "\n",
       "        [[0.56862745, 0.55294118, 0.57647059],\n",
       "         [0.58823529, 0.56862745, 0.60392157],\n",
       "         [0.57254902, 0.55686275, 0.58039216],\n",
       "         ...,\n",
       "         [0.56862745, 0.51372549, 0.55686275],\n",
       "         [0.65882353, 0.6       , 0.63137255],\n",
       "         [0.76862745, 0.73333333, 0.74509804]],\n",
       "\n",
       "        [[0.5372549 , 0.52156863, 0.54509804],\n",
       "         [0.60784314, 0.58823529, 0.62352941],\n",
       "         [0.61568627, 0.6       , 0.62352941],\n",
       "         ...,\n",
       "         [0.60784314, 0.55686275, 0.58823529],\n",
       "         [0.72156863, 0.6627451 , 0.69411765],\n",
       "         [0.83529412, 0.8       , 0.81176471]],\n",
       "\n",
       "        ...,\n",
       "\n",
       "        [[0.57647059, 0.55686275, 0.56078431],\n",
       "         [0.50588235, 0.49019608, 0.48627451],\n",
       "         [0.47843137, 0.4627451 , 0.45882353],\n",
       "         ...,\n",
       "         [0.54117647, 0.53333333, 0.53333333],\n",
       "         [0.5372549 , 0.5254902 , 0.53333333],\n",
       "         [0.54117647, 0.53333333, 0.53333333]],\n",
       "\n",
       "        [[0.57254902, 0.55686275, 0.55294118],\n",
       "         [0.49019608, 0.4745098 , 0.47058824],\n",
       "         [0.46666667, 0.45098039, 0.44705882],\n",
       "         ...,\n",
       "         [0.56470588, 0.55686275, 0.55686275],\n",
       "         [0.56078431, 0.54509804, 0.56470588],\n",
       "         [0.52156863, 0.51372549, 0.51372549]],\n",
       "\n",
       "        [[0.5372549 , 0.51764706, 0.52156863],\n",
       "         [0.46666667, 0.44705882, 0.45098039],\n",
       "         [0.4745098 , 0.45882353, 0.45490196],\n",
       "         ...,\n",
       "         [0.58823529, 0.57254902, 0.59215686],\n",
       "         [0.57647059, 0.55686275, 0.59215686],\n",
       "         [0.46666667, 0.4627451 , 0.47843137]]],\n",
       "\n",
       "\n",
       "       [[[0.70196078, 0.71372549, 0.70588235],\n",
       "         [0.52941176, 0.57254902, 0.54117647],\n",
       "         [0.58039216, 0.61960784, 0.59607843],\n",
       "         ...,\n",
       "         [0.58039216, 0.57647059, 0.61176471],\n",
       "         [0.59215686, 0.58431373, 0.63137255],\n",
       "         [0.54509804, 0.54117647, 0.58039216]],\n",
       "\n",
       "        [[0.60392157, 0.61568627, 0.60784314],\n",
       "         [0.47058824, 0.51372549, 0.48235294],\n",
       "         [0.54117647, 0.58039216, 0.55686275],\n",
       "         ...,\n",
       "         [0.55686275, 0.55294118, 0.58823529],\n",
       "         [0.58823529, 0.58431373, 0.62352941],\n",
       "         [0.57254902, 0.56862745, 0.60784314]],\n",
       "\n",
       "        [[0.59215686, 0.60392157, 0.59607843],\n",
       "         [0.46666667, 0.50980392, 0.47843137],\n",
       "         [0.53333333, 0.56470588, 0.5372549 ],\n",
       "         ...,\n",
       "         [0.50196078, 0.50196078, 0.5254902 ],\n",
       "         [0.54117647, 0.5372549 , 0.57254902],\n",
       "         [0.54117647, 0.5372549 , 0.57254902]],\n",
       "\n",
       "        ...,\n",
       "\n",
       "        [[0.49803922, 0.50588235, 0.48235294],\n",
       "         [0.45882353, 0.47058824, 0.43529412],\n",
       "         [0.40392157, 0.40392157, 0.38039216],\n",
       "         ...,\n",
       "         [0.52941176, 0.52941176, 0.52941176],\n",
       "         [0.45490196, 0.43137255, 0.43529412],\n",
       "         [0.49019608, 0.45490196, 0.46666667]],\n",
       "\n",
       "        [[0.44313725, 0.45098039, 0.42745098],\n",
       "         [0.52941176, 0.54509804, 0.50196078],\n",
       "         [0.61960784, 0.62352941, 0.58823529],\n",
       "         ...,\n",
       "         [0.47058824, 0.46666667, 0.4745098 ],\n",
       "         [0.53333333, 0.50588235, 0.51764706],\n",
       "         [0.52156863, 0.48235294, 0.50588235]],\n",
       "\n",
       "        [[0.41568627, 0.41960784, 0.40392157],\n",
       "         [0.49803922, 0.50980392, 0.4745098 ],\n",
       "         [0.63529412, 0.63921569, 0.60392157],\n",
       "         ...,\n",
       "         [0.36470588, 0.35294118, 0.36078431],\n",
       "         [0.50588235, 0.47843137, 0.49803922],\n",
       "         [0.54117647, 0.51372549, 0.53333333]]],\n",
       "\n",
       "\n",
       "       [[[0.55686275, 0.54901961, 0.57254902],\n",
       "         [0.58823529, 0.58431373, 0.59215686],\n",
       "         [0.64705882, 0.64313725, 0.65098039],\n",
       "         ...,\n",
       "         [0.5254902 , 0.52941176, 0.52156863],\n",
       "         [0.61568627, 0.62745098, 0.61960784],\n",
       "         [0.68627451, 0.70196078, 0.68235294]],\n",
       "\n",
       "        [[0.54509804, 0.5372549 , 0.56078431],\n",
       "         [0.56862745, 0.56470588, 0.57254902],\n",
       "         [0.61960784, 0.61568627, 0.62352941],\n",
       "         ...,\n",
       "         [0.58431373, 0.58431373, 0.58431373],\n",
       "         [0.56470588, 0.57647059, 0.56862745],\n",
       "         [0.54509804, 0.56078431, 0.54117647]],\n",
       "\n",
       "        [[0.54901961, 0.54117647, 0.56470588],\n",
       "         [0.58823529, 0.58431373, 0.59215686],\n",
       "         [0.67058824, 0.66666667, 0.6745098 ],\n",
       "         ...,\n",
       "         [0.74901961, 0.74901961, 0.74901961],\n",
       "         [0.58039216, 0.58431373, 0.57647059],\n",
       "         [0.4627451 , 0.46666667, 0.45098039]],\n",
       "\n",
       "        ...,\n",
       "\n",
       "        [[0.64313725, 0.60392157, 0.62745098],\n",
       "         [0.50196078, 0.4745098 , 0.49411765],\n",
       "         [0.47058824, 0.44313725, 0.4627451 ],\n",
       "         ...,\n",
       "         [0.50980392, 0.49019608, 0.49411765],\n",
       "         [0.66666667, 0.64705882, 0.65098039],\n",
       "         [0.58823529, 0.56862745, 0.57254902]],\n",
       "\n",
       "        [[0.63137255, 0.59215686, 0.61568627],\n",
       "         [0.50196078, 0.4745098 , 0.49411765],\n",
       "         [0.45098039, 0.42352941, 0.44313725],\n",
       "         ...,\n",
       "         [0.49803922, 0.47058824, 0.48235294],\n",
       "         [0.64313725, 0.61568627, 0.62745098],\n",
       "         [0.58823529, 0.56862745, 0.57254902]],\n",
       "\n",
       "        [[0.55686275, 0.52941176, 0.54117647],\n",
       "         [0.48235294, 0.45490196, 0.46666667],\n",
       "         [0.44705882, 0.42745098, 0.43529412],\n",
       "         ...,\n",
       "         [0.51764706, 0.50196078, 0.49803922],\n",
       "         [0.65098039, 0.63137255, 0.62745098],\n",
       "         [0.62352941, 0.60784314, 0.60392157]]],\n",
       "\n",
       "\n",
       "       ...,\n",
       "\n",
       "\n",
       "       [[[0.70588235, 0.71764706, 0.70980392],\n",
       "         [0.69019608, 0.71372549, 0.69411765],\n",
       "         [0.68235294, 0.70588235, 0.68627451],\n",
       "         ...,\n",
       "         [0.6745098 , 0.67843137, 0.67058824],\n",
       "         [0.66666667, 0.67058824, 0.6627451 ],\n",
       "         [0.67843137, 0.68235294, 0.66666667]],\n",
       "\n",
       "        [[0.65490196, 0.66666667, 0.65882353],\n",
       "         [0.63921569, 0.6627451 , 0.64313725],\n",
       "         [0.63529412, 0.65882353, 0.63921569],\n",
       "         ...,\n",
       "         [0.64313725, 0.64705882, 0.63921569],\n",
       "         [0.63529412, 0.63921569, 0.63137255],\n",
       "         [0.64313725, 0.64705882, 0.63921569]],\n",
       "\n",
       "        [[0.6       , 0.60784314, 0.60784314],\n",
       "         [0.59607843, 0.60784314, 0.6       ],\n",
       "         [0.59607843, 0.60784314, 0.6       ],\n",
       "         ...,\n",
       "         [0.61960784, 0.61960784, 0.61960784],\n",
       "         [0.61176471, 0.61176471, 0.61176471],\n",
       "         [0.61568627, 0.61960784, 0.61176471]],\n",
       "\n",
       "        ...,\n",
       "\n",
       "        [[0.49803922, 0.45882353, 0.50588235],\n",
       "         [0.54901961, 0.49411765, 0.5372549 ],\n",
       "         [0.58823529, 0.53333333, 0.57647059],\n",
       "         ...,\n",
       "         [0.43137255, 0.45098039, 0.44313725],\n",
       "         [0.43137255, 0.45098039, 0.44313725],\n",
       "         [0.46666667, 0.46666667, 0.46666667]],\n",
       "\n",
       "        [[0.45098039, 0.41568627, 0.45490196],\n",
       "         [0.53333333, 0.47843137, 0.49411765],\n",
       "         [0.6       , 0.55686275, 0.56470588],\n",
       "         ...,\n",
       "         [0.47843137, 0.50196078, 0.49803922],\n",
       "         [0.4627451 , 0.48627451, 0.48235294],\n",
       "         [0.48627451, 0.48235294, 0.49019608]],\n",
       "\n",
       "        [[0.43137255, 0.40392157, 0.42352941],\n",
       "         [0.5254902 , 0.47843137, 0.47843137],\n",
       "         [0.60784314, 0.57254902, 0.56078431],\n",
       "         ...,\n",
       "         [0.51372549, 0.5372549 , 0.53333333],\n",
       "         [0.49411765, 0.51764706, 0.51372549],\n",
       "         [0.50588235, 0.51372549, 0.51764706]]],\n",
       "\n",
       "\n",
       "       [[[0.72941176, 0.7372549 , 0.71372549],\n",
       "         [0.71372549, 0.7254902 , 0.69019608],\n",
       "         [0.69019608, 0.69803922, 0.6745098 ],\n",
       "         ...,\n",
       "         [0.68235294, 0.68627451, 0.67058824],\n",
       "         [0.68235294, 0.69803922, 0.6745098 ],\n",
       "         [0.68235294, 0.69803922, 0.67843137]],\n",
       "\n",
       "        [[0.61960784, 0.62745098, 0.60392157],\n",
       "         [0.63137255, 0.63921569, 0.61568627],\n",
       "         [0.64705882, 0.65490196, 0.63137255],\n",
       "         ...,\n",
       "         [0.65098039, 0.65490196, 0.63921569],\n",
       "         [0.64705882, 0.6627451 , 0.64313725],\n",
       "         [0.64705882, 0.6627451 , 0.64313725]],\n",
       "\n",
       "        [[0.60784314, 0.61176471, 0.59607843],\n",
       "         [0.63137255, 0.63529412, 0.61960784],\n",
       "         [0.65490196, 0.65882353, 0.64313725],\n",
       "         ...,\n",
       "         [0.61568627, 0.61960784, 0.61176471],\n",
       "         [0.61176471, 0.62352941, 0.61568627],\n",
       "         [0.60784314, 0.61960784, 0.61176471]],\n",
       "\n",
       "        ...,\n",
       "\n",
       "        [[0.59215686, 0.54509804, 0.56862745],\n",
       "         [0.63137255, 0.56470588, 0.6       ],\n",
       "         [0.64313725, 0.57647059, 0.61176471],\n",
       "         ...,\n",
       "         [0.43529412, 0.40392157, 0.43137255],\n",
       "         [0.4745098 , 0.43137255, 0.4627451 ],\n",
       "         [0.4745098 , 0.45098039, 0.45490196]],\n",
       "\n",
       "        [[0.59607843, 0.54117647, 0.58431373],\n",
       "         [0.68627451, 0.60784314, 0.65882353],\n",
       "         [0.70980392, 0.63921569, 0.69019608],\n",
       "         ...,\n",
       "         [0.47058824, 0.44313725, 0.45490196],\n",
       "         [0.51372549, 0.47058824, 0.48235294],\n",
       "         [0.50196078, 0.47843137, 0.45882353]],\n",
       "\n",
       "        [[0.51764706, 0.48627451, 0.51372549],\n",
       "         [0.63529412, 0.58431373, 0.61568627],\n",
       "         [0.68627451, 0.63137255, 0.6745098 ],\n",
       "         ...,\n",
       "         [0.5254902 , 0.50980392, 0.49019608],\n",
       "         [0.54509804, 0.51372549, 0.48627451],\n",
       "         [0.52156863, 0.50588235, 0.4627451 ]]],\n",
       "\n",
       "\n",
       "       [[[0.68235294, 0.68627451, 0.67843137],\n",
       "         [0.68627451, 0.68627451, 0.68627451],\n",
       "         [0.69411765, 0.69411765, 0.69411765],\n",
       "         ...,\n",
       "         [0.71764706, 0.72156863, 0.68627451],\n",
       "         [0.70980392, 0.71372549, 0.67843137],\n",
       "         [0.70196078, 0.70588235, 0.67058824]],\n",
       "\n",
       "        [[0.65490196, 0.65882353, 0.65098039],\n",
       "         [0.6627451 , 0.6627451 , 0.6627451 ],\n",
       "         [0.67058824, 0.67058824, 0.67058824],\n",
       "         ...,\n",
       "         [0.66666667, 0.66666667, 0.64313725],\n",
       "         [0.65882353, 0.65882353, 0.63529412],\n",
       "         [0.65098039, 0.65098039, 0.62745098]],\n",
       "\n",
       "        [[0.61568627, 0.61568627, 0.61568627],\n",
       "         [0.62745098, 0.62745098, 0.62745098],\n",
       "         [0.63921569, 0.63529412, 0.64313725],\n",
       "         ...,\n",
       "         [0.61960784, 0.61176471, 0.60784314],\n",
       "         [0.61568627, 0.60784314, 0.60392157],\n",
       "         [0.60784314, 0.6       , 0.59607843]],\n",
       "\n",
       "        ...,\n",
       "\n",
       "        [[0.45882353, 0.48235294, 0.43921569],\n",
       "         [0.43921569, 0.48235294, 0.41960784],\n",
       "         [0.4627451 , 0.50196078, 0.45490196],\n",
       "         ...,\n",
       "         [0.41568627, 0.44705882, 0.40392157],\n",
       "         [0.40784314, 0.43529412, 0.38431373],\n",
       "         [0.39607843, 0.41568627, 0.38039216]],\n",
       "\n",
       "        [[0.48235294, 0.50588235, 0.43921569],\n",
       "         [0.46666667, 0.51372549, 0.42745098],\n",
       "         [0.49019608, 0.52941176, 0.4627451 ],\n",
       "         ...,\n",
       "         [0.40784314, 0.45098039, 0.38823529],\n",
       "         [0.39215686, 0.43137255, 0.36470588],\n",
       "         [0.38431373, 0.41568627, 0.37254902]],\n",
       "\n",
       "        [[0.52941176, 0.54901961, 0.46666667],\n",
       "         [0.52156863, 0.56078431, 0.47058824],\n",
       "         [0.54509804, 0.58039216, 0.50196078],\n",
       "         ...,\n",
       "         [0.41568627, 0.44313725, 0.38431373],\n",
       "         [0.4       , 0.43137255, 0.36470588],\n",
       "         [0.39607843, 0.41960784, 0.37647059]]]])"
      ]
     },
     "execution_count": 70,
     "metadata": {},
     "output_type": "execute_result"
    }
   ],
   "source": [
    "x_test"
   ]
  },
  {
   "cell_type": "code",
   "execution_count": 71,
   "metadata": {
    "scrolled": true
   },
   "outputs": [
    {
     "data": {
      "text/plain": [
       "array([[1., 0., 0.],\n",
       "       [1., 0., 0.],\n",
       "       [1., 0., 0.],\n",
       "       [1., 0., 0.],\n",
       "       [1., 0., 0.],\n",
       "       [1., 0., 0.],\n",
       "       [1., 0., 0.],\n",
       "       [1., 0., 0.],\n",
       "       [1., 0., 0.],\n",
       "       [1., 0., 0.],\n",
       "       [1., 0., 0.],\n",
       "       [1., 0., 0.],\n",
       "       [1., 0., 0.],\n",
       "       [1., 0., 0.],\n",
       "       [1., 0., 0.],\n",
       "       [1., 0., 0.],\n",
       "       [1., 0., 0.],\n",
       "       [1., 0., 0.],\n",
       "       [1., 0., 0.],\n",
       "       [1., 0., 0.],\n",
       "       [1., 0., 0.],\n",
       "       [1., 0., 0.],\n",
       "       [1., 0., 0.],\n",
       "       [1., 0., 0.],\n",
       "       [1., 0., 0.],\n",
       "       [1., 0., 0.],\n",
       "       [1., 0., 0.],\n",
       "       [1., 0., 0.],\n",
       "       [1., 0., 0.],\n",
       "       [1., 0., 0.],\n",
       "       [1., 0., 0.],\n",
       "       [1., 0., 0.],\n",
       "       [1., 0., 0.],\n",
       "       [1., 0., 0.],\n",
       "       [1., 0., 0.],\n",
       "       [1., 0., 0.],\n",
       "       [1., 0., 0.],\n",
       "       [1., 0., 0.],\n",
       "       [1., 0., 0.],\n",
       "       [1., 0., 0.],\n",
       "       [1., 0., 0.],\n",
       "       [1., 0., 0.],\n",
       "       [1., 0., 0.],\n",
       "       [1., 0., 0.],\n",
       "       [1., 0., 0.],\n",
       "       [1., 0., 0.],\n",
       "       [1., 0., 0.],\n",
       "       [1., 0., 0.],\n",
       "       [1., 0., 0.],\n",
       "       [1., 0., 0.],\n",
       "       [0., 1., 0.],\n",
       "       [0., 1., 0.],\n",
       "       [0., 1., 0.],\n",
       "       [0., 1., 0.],\n",
       "       [0., 1., 0.],\n",
       "       [0., 1., 0.],\n",
       "       [0., 1., 0.],\n",
       "       [0., 1., 0.],\n",
       "       [0., 1., 0.],\n",
       "       [0., 1., 0.],\n",
       "       [0., 1., 0.],\n",
       "       [0., 1., 0.],\n",
       "       [0., 1., 0.],\n",
       "       [0., 1., 0.],\n",
       "       [0., 1., 0.],\n",
       "       [0., 1., 0.],\n",
       "       [0., 1., 0.],\n",
       "       [0., 1., 0.],\n",
       "       [0., 1., 0.],\n",
       "       [0., 1., 0.],\n",
       "       [0., 1., 0.],\n",
       "       [0., 1., 0.],\n",
       "       [0., 1., 0.],\n",
       "       [0., 1., 0.],\n",
       "       [0., 1., 0.],\n",
       "       [0., 0., 1.],\n",
       "       [0., 0., 1.],\n",
       "       [0., 0., 1.],\n",
       "       [0., 0., 1.],\n",
       "       [0., 0., 1.],\n",
       "       [0., 0., 1.],\n",
       "       [0., 0., 1.],\n",
       "       [0., 0., 1.],\n",
       "       [0., 0., 1.],\n",
       "       [0., 0., 1.],\n",
       "       [0., 0., 1.],\n",
       "       [0., 0., 1.],\n",
       "       [0., 0., 1.],\n",
       "       [0., 0., 1.],\n",
       "       [0., 0., 1.],\n",
       "       [0., 0., 1.],\n",
       "       [0., 0., 1.],\n",
       "       [0., 0., 1.],\n",
       "       [0., 0., 1.],\n",
       "       [0., 0., 1.],\n",
       "       [0., 0., 1.],\n",
       "       [0., 0., 1.],\n",
       "       [0., 0., 1.],\n",
       "       [0., 0., 1.],\n",
       "       [0., 0., 1.]], dtype=float32)"
      ]
     },
     "execution_count": 71,
     "metadata": {},
     "output_type": "execute_result"
    }
   ],
   "source": [
    "y_test"
   ]
  },
  {
   "cell_type": "code",
   "execution_count": 72,
   "metadata": {},
   "outputs": [],
   "source": [
    "#Setting the Random Seeds"
   ]
  },
  {
   "cell_type": "code",
   "execution_count": 25,
   "metadata": {},
   "outputs": [],
   "source": [
    "np.random.seed(42)\n",
    "np.random.seed(42)\n",
    "tf.set_random_seed(42)"
   ]
  },
  {
   "cell_type": "code",
   "execution_count": 26,
   "metadata": {},
   "outputs": [],
   "source": [
    "#Modelling"
   ]
  },
  {
   "cell_type": "code",
   "execution_count": 27,
   "metadata": {},
   "outputs": [],
   "source": [
    "#Building the convNet Model"
   ]
  },
  {
   "cell_type": "code",
   "execution_count": 28,
   "metadata": {},
   "outputs": [],
   "source": [
    "from keras import models\n",
    "from keras import layers"
   ]
  },
  {
   "cell_type": "code",
   "execution_count": 29,
   "metadata": {},
   "outputs": [],
   "source": [
    "from keras.layers import Activation, Dense"
   ]
  },
  {
   "cell_type": "code",
   "execution_count": 30,
   "metadata": {},
   "outputs": [],
   "source": [
    "# Modelling starts using a CNN\n",
    "\n",
    "model = Sequential()\n",
    "model.add(Conv2D(filters = 32, kernel_size = (5,5), \n",
    "                 padding = 'Same',activation ='relu', \n",
    "                 input_shape = (64,64,3)))\n",
    "model.add(MaxPooling2D(pool_size=(2,2)))\n",
    "\n",
    "model.add(Conv2D(filters = 64, kernel_size = (3,3),\n",
    "                 padding = 'Same',activation ='relu'))\n",
    "model.add(MaxPooling2D(pool_size=(2,2), strides=(2,2)))\n",
    " \n",
    "\n",
    "model.add(Conv2D(filters =96, kernel_size = (3,3),\n",
    "                 padding = 'Same',activation ='relu'))\n",
    "model.add(MaxPooling2D(pool_size=(2,2), strides=(2,2)))\n",
    "\n",
    "model.add(Conv2D(filters = 96, kernel_size = (3,3),\n",
    "                 padding = 'Same',activation ='relu'))\n",
    "model.add(MaxPooling2D(pool_size=(2,2), strides=(2,2)))\n",
    "\n",
    "model.add(Flatten())\n",
    "model.add(Dense(512))\n",
    "model.add(Activation('relu'))\n",
    "model.add(Dense(3, activation = \"softmax\"))"
   ]
  },
  {
   "cell_type": "code",
   "execution_count": 31,
   "metadata": {},
   "outputs": [],
   "source": [
    "#Using a LR Annealer"
   ]
  },
  {
   "cell_type": "code",
   "execution_count": 43,
   "metadata": {},
   "outputs": [],
   "source": [
    "batch_size=32\n",
    "epochs=5\n",
    "\n",
    "from keras.callbacks import ReduceLROnPlateau\n",
    "red_lr= ReduceLROnPlateau(monitor='val_acc',patience=3,verbose=1,factor=0.1)"
   ]
  },
  {
   "cell_type": "code",
   "execution_count": 33,
   "metadata": {},
   "outputs": [],
   "source": [
    "#Data Augmentation to prevent Overfitting"
   ]
  },
  {
   "cell_type": "code",
   "execution_count": 44,
   "metadata": {},
   "outputs": [],
   "source": [
    "from keras.preprocessing.image import ImageDataGenerator"
   ]
  },
  {
   "cell_type": "code",
   "execution_count": 45,
   "metadata": {},
   "outputs": [],
   "source": [
    "datagen = ImageDataGenerator(\n",
    "        featurewise_center=False,  # set input mean to 0 over the dataset\n",
    "        samplewise_center=False,  # set each sample mean to 0\n",
    "        featurewise_std_normalization=False,  # divide inputs by std of the dataset\n",
    "        samplewise_std_normalization=False,  # divide each input by its std\n",
    "        zca_whitening=False,  # apply ZCA whitening\n",
    "        rotation_range=10,  # randomly rotate images in the range (degrees, 0 to 180)\n",
    "        zoom_range = 0.1, # Randomly zoom image \n",
    "        width_shift_range=0.2,  # randomly shift images horizontally (fraction of total width)\n",
    "        height_shift_range=0.2,  # randomly shift images vertically (fraction of total height)\n",
    "        horizontal_flip=True,  # randomly flip images\n",
    "        vertical_flip=False)  # randomly flip images\n",
    "\n",
    "\n",
    "datagen.fit(x_train)"
   ]
  },
  {
   "cell_type": "code",
   "execution_count": 46,
   "metadata": {},
   "outputs": [],
   "source": [
    "#Compiling the Keras Model and Summary"
   ]
  },
  {
   "cell_type": "code",
   "execution_count": 47,
   "metadata": {},
   "outputs": [],
   "source": [
    "from keras.optimizers import Adam"
   ]
  },
  {
   "cell_type": "code",
   "execution_count": 48,
   "metadata": {},
   "outputs": [],
   "source": [
    "model.compile(optimizer=Adam(lr=0.001),\n",
    "              loss='categorical_crossentropy',\n",
    "              metrics=['accuracy'])"
   ]
  },
  {
   "cell_type": "code",
   "execution_count": 53,
   "metadata": {},
   "outputs": [],
   "source": [
    "# model 2\n",
    "model.compile(optimizer='rmsprop',\n",
    "              loss='categorical_crossentropy',\n",
    "              metrics=['accuracy'])"
   ]
  },
  {
   "cell_type": "code",
   "execution_count": 54,
   "metadata": {},
   "outputs": [
    {
     "name": "stdout",
     "output_type": "stream",
     "text": [
      "_________________________________________________________________\n",
      "Layer (type)                 Output Shape              Param #   \n",
      "=================================================================\n",
      "conv2d_1 (Conv2D)            (None, 64, 64, 32)        2432      \n",
      "_________________________________________________________________\n",
      "max_pooling2d_1 (MaxPooling2 (None, 32, 32, 32)        0         \n",
      "_________________________________________________________________\n",
      "conv2d_2 (Conv2D)            (None, 32, 32, 64)        18496     \n",
      "_________________________________________________________________\n",
      "max_pooling2d_2 (MaxPooling2 (None, 16, 16, 64)        0         \n",
      "_________________________________________________________________\n",
      "conv2d_3 (Conv2D)            (None, 16, 16, 96)        55392     \n",
      "_________________________________________________________________\n",
      "max_pooling2d_3 (MaxPooling2 (None, 8, 8, 96)          0         \n",
      "_________________________________________________________________\n",
      "conv2d_4 (Conv2D)            (None, 8, 8, 96)          83040     \n",
      "_________________________________________________________________\n",
      "max_pooling2d_4 (MaxPooling2 (None, 4, 4, 96)          0         \n",
      "_________________________________________________________________\n",
      "flatten_1 (Flatten)          (None, 1536)              0         \n",
      "_________________________________________________________________\n",
      "dense_1 (Dense)              (None, 512)               786944    \n",
      "_________________________________________________________________\n",
      "activation_1 (Activation)    (None, 512)               0         \n",
      "_________________________________________________________________\n",
      "dense_2 (Dense)              (None, 3)                 1539      \n",
      "=================================================================\n",
      "Total params: 947,843\n",
      "Trainable params: 947,843\n",
      "Non-trainable params: 0\n",
      "_________________________________________________________________\n"
     ]
    }
   ],
   "source": [
    "model.summary()"
   ]
  },
  {
   "cell_type": "code",
   "execution_count": 50,
   "metadata": {},
   "outputs": [],
   "source": [
    "#Fitting on the Training set and making predcitons on the Validation set¶"
   ]
  },
  {
   "cell_type": "code",
   "execution_count": 55,
   "metadata": {},
   "outputs": [
    {
     "name": "stdout",
     "output_type": "stream",
     "text": [
      "Epoch 1/5\n",
      "220/220 [==============================] - 97s 443ms/step - loss: 1.0645 - acc: 0.4550 - val_loss: 1.0439 - val_acc: 0.5000\n",
      "Epoch 2/5\n",
      "220/220 [==============================] - 91s 412ms/step - loss: 1.0645 - acc: 0.4547 - val_loss: 1.0440 - val_acc: 0.5000\n",
      "Epoch 3/5\n",
      "220/220 [==============================] - 6633s 30s/step - loss: 1.0647 - acc: 0.4542 - val_loss: 1.0443 - val_acc: 0.5000\n",
      "Epoch 4/5\n",
      "220/220 [==============================] - 102s 463ms/step - loss: 1.0646 - acc: 0.4545 - val_loss: 1.0450 - val_acc: 0.5000\n",
      "Epoch 5/5\n",
      "220/220 [==============================] - 91s 413ms/step - loss: 1.0703 - acc: 0.4546 - val_loss: 1.0446 - val_acc: 0.5000\n"
     ]
    }
   ],
   "source": [
    "History = model.fit_generator(datagen.flow(x_train,y_train, batch_size=batch_size),\n",
    "                              epochs = epochs, validation_data = (x_test,y_test), verbose = 1, \n",
    "                              steps_per_epoch=x_train.shape[0])"
   ]
  },
  {
   "cell_type": "code",
   "execution_count": 1,
   "metadata": {},
   "outputs": [
    {
     "ename": "NameError",
     "evalue": "name 'y_train' is not defined",
     "output_type": "error",
     "traceback": [
      "\u001b[0;31m---------------------------------------------------------------------------\u001b[0m",
      "\u001b[0;31mNameError\u001b[0m                                 Traceback (most recent call last)",
      "\u001b[0;32m<ipython-input-1-8a7f88268f18>\u001b[0m in \u001b[0;36m<module>\u001b[0;34m\u001b[0m\n\u001b[0;32m----> 1\u001b[0;31m \u001b[0mlen\u001b[0m\u001b[0;34m(\u001b[0m\u001b[0my_train\u001b[0m\u001b[0;34m)\u001b[0m\u001b[0;34m\u001b[0m\u001b[0;34m\u001b[0m\u001b[0m\n\u001b[0m",
      "\u001b[0;31mNameError\u001b[0m: name 'y_train' is not defined"
     ]
    }
   ],
   "source": [
    "len(y_train)"
   ]
  },
  {
   "cell_type": "code",
   "execution_count": 103,
   "metadata": {},
   "outputs": [
    {
     "data": {
      "text/plain": [
       "100"
      ]
     },
     "execution_count": 103,
     "metadata": {},
     "output_type": "execute_result"
    }
   ],
   "source": [
    "len(x_train)"
   ]
  },
  {
   "cell_type": "code",
   "execution_count": 104,
   "metadata": {},
   "outputs": [
    {
     "data": {
      "text/plain": [
       "100"
      ]
     },
     "execution_count": 104,
     "metadata": {},
     "output_type": "execute_result"
    }
   ],
   "source": [
    "len(y_test)"
   ]
  },
  {
   "cell_type": "code",
   "execution_count": 105,
   "metadata": {},
   "outputs": [
    {
     "data": {
      "text/plain": [
       "100"
      ]
     },
     "execution_count": 105,
     "metadata": {},
     "output_type": "execute_result"
    }
   ],
   "source": [
    "len(x_test)"
   ]
  },
  {
   "cell_type": "code",
   "execution_count": 3,
   "metadata": {},
   "outputs": [],
   "source": [
    "config = tf.ConfigProto()\n",
    "config.gpu_options.allow_growth = True\n",
    "sess = tf.Session(config=config)"
   ]
  },
  {
   "cell_type": "code",
   "execution_count": null,
   "metadata": {},
   "outputs": [],
   "source": []
  }
 ],
 "metadata": {
  "kernelspec": {
   "display_name": "Python 2",
   "language": "python",
   "name": "python2"
  },
  "language_info": {
   "codemirror_mode": {
    "name": "ipython",
    "version": 2
   },
   "file_extension": ".py",
   "mimetype": "text/x-python",
   "name": "python",
   "nbconvert_exporter": "python",
   "pygments_lexer": "ipython2",
   "version": "2.7.16"
  }
 },
 "nbformat": 4,
 "nbformat_minor": 2
}
